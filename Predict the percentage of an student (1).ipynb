{
 "cells": [
  {
   "cell_type": "markdown",
   "id": "0ca817d3",
   "metadata": {},
   "source": [
    "# **Linear Regression with Python Scikit Learn**\n",
    "In this part, we'll look at how regression functions can be implemented using the Python Scikit-Learn module for machine learning. We'll start with a straightforward linear regression with only two variables.\n",
    "### **Simple Linear Regression**\n",
    "Based on the number of hours a student has studied, we will predict the percentage of marks they should receive in this regression task. Given that there are only two variables, this linear regression exercise is straightforward."
   ]
  },
  {
   "cell_type": "code",
   "execution_count": 16,
   "id": "f89aeb30",
   "metadata": {},
   "outputs": [],
   "source": [
    "# Import necessary libraries\n",
    "import pandas as pd\n",
    "import numpy as np\n",
    "import matplotlib.pyplot as plt\n",
    "%matplotlib inline"
   ]
  },
  {
   "cell_type": "markdown",
   "id": "da8b92c3",
   "metadata": {},
   "source": [
    "This code imports the necessary libraries to work with data, numerical operations, visualization, and IPython. Pandas is used for data manipulation, numpy for numerical operations, and matplotlib for visualization."
   ]
  },
  {
   "cell_type": "code",
   "execution_count": 2,
   "id": "73501c7e",
   "metadata": {},
   "outputs": [],
   "source": [
    "# Load the data from the URL\n",
    "url = \"http://bit.ly/w-data\"\n",
    "data = pd.read_csv(url)"
   ]
  },
  {
   "cell_type": "code",
   "execution_count": 4,
   "id": "07ff6f56",
   "metadata": {},
   "outputs": [
    {
     "name": "stdout",
     "output_type": "stream",
     "text": [
      "Data imported successfully\n"
     ]
    }
   ],
   "source": [
    "# Print message after importing data\n",
    "print(\"Data imported successfully\")"
   ]
  },
  {
   "cell_type": "code",
   "execution_count": 5,
   "id": "d8a6443e",
   "metadata": {},
   "outputs": [
    {
     "data": {
      "text/html": [
       "<div>\n",
       "<style scoped>\n",
       "    .dataframe tbody tr th:only-of-type {\n",
       "        vertical-align: middle;\n",
       "    }\n",
       "\n",
       "    .dataframe tbody tr th {\n",
       "        vertical-align: top;\n",
       "    }\n",
       "\n",
       "    .dataframe thead th {\n",
       "        text-align: right;\n",
       "    }\n",
       "</style>\n",
       "<table border=\"1\" class=\"dataframe\">\n",
       "  <thead>\n",
       "    <tr style=\"text-align: right;\">\n",
       "      <th></th>\n",
       "      <th>Hours</th>\n",
       "      <th>Scores</th>\n",
       "    </tr>\n",
       "  </thead>\n",
       "  <tbody>\n",
       "    <tr>\n",
       "      <th>0</th>\n",
       "      <td>2.5</td>\n",
       "      <td>21</td>\n",
       "    </tr>\n",
       "    <tr>\n",
       "      <th>1</th>\n",
       "      <td>5.1</td>\n",
       "      <td>47</td>\n",
       "    </tr>\n",
       "    <tr>\n",
       "      <th>2</th>\n",
       "      <td>3.2</td>\n",
       "      <td>27</td>\n",
       "    </tr>\n",
       "    <tr>\n",
       "      <th>3</th>\n",
       "      <td>8.5</td>\n",
       "      <td>75</td>\n",
       "    </tr>\n",
       "    <tr>\n",
       "      <th>4</th>\n",
       "      <td>3.5</td>\n",
       "      <td>30</td>\n",
       "    </tr>\n",
       "    <tr>\n",
       "      <th>5</th>\n",
       "      <td>1.5</td>\n",
       "      <td>20</td>\n",
       "    </tr>\n",
       "    <tr>\n",
       "      <th>6</th>\n",
       "      <td>9.2</td>\n",
       "      <td>88</td>\n",
       "    </tr>\n",
       "    <tr>\n",
       "      <th>7</th>\n",
       "      <td>5.5</td>\n",
       "      <td>60</td>\n",
       "    </tr>\n",
       "    <tr>\n",
       "      <th>8</th>\n",
       "      <td>8.3</td>\n",
       "      <td>81</td>\n",
       "    </tr>\n",
       "    <tr>\n",
       "      <th>9</th>\n",
       "      <td>2.7</td>\n",
       "      <td>25</td>\n",
       "    </tr>\n",
       "  </tbody>\n",
       "</table>\n",
       "</div>"
      ],
      "text/plain": [
       "   Hours  Scores\n",
       "0    2.5      21\n",
       "1    5.1      47\n",
       "2    3.2      27\n",
       "3    8.5      75\n",
       "4    3.5      30\n",
       "5    1.5      20\n",
       "6    9.2      88\n",
       "7    5.5      60\n",
       "8    8.3      81\n",
       "9    2.7      25"
      ]
     },
     "execution_count": 5,
     "metadata": {},
     "output_type": "execute_result"
    }
   ],
   "source": [
    "# Display first 10 rows of the data\n",
    "data.head(10)"
   ]
  },
  {
   "cell_type": "markdown",
   "id": "d669a510",
   "metadata": {},
   "source": [
    "This code reads in the data from a remote link using pandas' read_csv() function and displays the first 10 rows of the data using the head() function."
   ]
  },
  {
   "cell_type": "code",
   "execution_count": 6,
   "id": "b77e4a5e",
   "metadata": {},
   "outputs": [
    {
     "data": {
      "image/png": "[encoded data removed]",
      "text/plain": [
       "<Figure size 640x480 with 1 Axes>"
      ]
     },
     "metadata": {},
     "output_type": "display_data"
    }
   ],
   "source": [
    "# Plot the distribution of scores\n",
    "plt.scatter(data['Hours'], data['Scores'])\n",
    "plt.title('Hours vs Percentage')\n",
    "plt.xlabel('Hours Studied')\n",
    "plt.ylabel('Percentage Score')\n",
    "plt.show()"
   ]
  },
  {
   "cell_type": "markdown",
   "id": "675c2dd1",
   "metadata": {},
   "source": [
    "This code creates a scatter plot of the data, with the x-axis being the number of hours studied and the y-axis being the percentage score achieved. This visualization allows us to examine the data and observe any correlation between the two variables."
   ]
  },
  {
   "cell_type": "code",
   "execution_count": 7,
   "id": "5dac5b94",
   "metadata": {},
   "outputs": [],
   "source": [
    "# Separate the data into input and output variables\n",
    "X = data.iloc[:, :-1].values\n",
    "y = data.iloc[:, 1].values"
   ]
  },
  {
   "cell_type": "markdown",
   "id": "7c985e9f",
   "metadata": {},
   "source": [
    "This code creates two variables X and y, which represent the input attributes and output labels, respectively. Here, X represents the \"Hours\" column of the data, while y represents the \"Scores\" column."
   ]
  },
  {
   "cell_type": "code",
   "execution_count": 8,
   "id": "0e2c91b7",
   "metadata": {},
   "outputs": [],
   "source": [
    "# Split the data into training and testing sets\n",
    "from sklearn.model_selection import train_test_split\n",
    "X_train, X_test, y_train, y_test = train_test_split(X, y, test_size=0.2, random_state=0)"
   ]
  },
  {
   "cell_type": "markdown",
   "id": "e16b45cb",
   "metadata": {},
   "source": [
    "This code splits the data into training and testing sets using Scikit-Learn's train_test_split() function. The function takes four arguments - the input attributes, output labels, test size, and random state."
   ]
  },
  {
   "cell_type": "code",
   "execution_count": 9,
   "id": "3c88cbee",
   "metadata": {},
   "outputs": [
    {
     "data": {
      "text/plain": [
       "LinearRegression()"
      ]
     },
     "execution_count": 9,
     "metadata": {},
     "output_type": "execute_result"
    }
   ],
   "source": [
    "# Create a Linear Regression model and train it on the training set\n",
    "from sklearn.linear_model import LinearRegression\n",
    "regressor = LinearRegression()\n",
    "regressor.fit(X_train, y_train)"
   ]
  },
  {
   "cell_type": "code",
   "execution_count": 10,
   "id": "ed2bd02e",
   "metadata": {},
   "outputs": [
    {
     "name": "stdout",
     "output_type": "stream",
     "text": [
      "Training complete.\n"
     ]
    }
   ],
   "source": [
    "# Print message after training the model\n",
    "print(\"Training complete.\")"
   ]
  },
  {
   "cell_type": "markdown",
   "id": "bbba2f11",
   "metadata": {},
   "source": [
    "This code trains a linear regression algorithm on the training data using Scikit-Learn's LinearRegression() function. The algorithm is then fitted to the training data using the fit() function, and the output message \"Training complete.\" is displayed."
   ]
  },
  {
   "cell_type": "code",
   "execution_count": 11,
   "id": "c78c4340",
   "metadata": {},
   "outputs": [
    {
     "data": {
      "image/png": "[encoded data removed]",
      "text/plain": [
       "<Figure size 640x480 with 1 Axes>"
      ]
     },
     "metadata": {},
     "output_type": "display_data"
    }
   ],
   "source": [
    "# Plot the regression line\n",
    "line = regressor.coef_*X+regressor.intercept_\n",
    "plt.scatter(X, y)\n",
    "plt.plot(X, line);\n",
    "plt.show()"
   ]
  },
  {
   "cell_type": "markdown",
   "id": "7deb5a68",
   "metadata": {},
   "source": [
    "This code creates a scatter plot of the data and overlays a linear regression line on top of it. The regression line is created using the equation y = mx + c, where m is the slope of the line and c is the intercept. The slope and intercept values are obtained from the regressor object that was trained earlier."
   ]
  },
  {
   "cell_type": "code",
   "execution_count": 12,
   "id": "3c63f618",
   "metadata": {},
   "outputs": [],
   "source": [
    "# Use the trained model to make predictions on the testing set\n",
    "y_pred = regressor.predict(X_test)"
   ]
  },
  {
   "cell_type": "code",
   "execution_count": 13,
   "id": "f20edf03",
   "metadata": {},
   "outputs": [
    {
     "data": {
      "text/html": [
       "<div>\n",
       "<style scoped>\n",
       "    .dataframe tbody tr th:only-of-type {\n",
       "        vertical-align: middle;\n",
       "    }\n",
       "\n",
       "    .dataframe tbody tr th {\n",
       "        vertical-align: top;\n",
       "    }\n",
       "\n",
       "    .dataframe thead th {\n",
       "        text-align: right;\n",
       "    }\n",
       "</style>\n",
       "<table border=\"1\" class=\"dataframe\">\n",
       "  <thead>\n",
       "    <tr style=\"text-align: right;\">\n",
       "      <th></th>\n",
       "      <th>Actual</th>\n",
       "      <th>Predicted</th>\n",
       "    </tr>\n",
       "  </thead>\n",
       "  <tbody>\n",
       "    <tr>\n",
       "      <th>0</th>\n",
       "      <td>20</td>\n",
       "      <td>16.884145</td>\n",
       "    </tr>\n",
       "    <tr>\n",
       "      <th>1</th>\n",
       "      <td>27</td>\n",
       "      <td>33.732261</td>\n",
       "    </tr>\n",
       "    <tr>\n",
       "      <th>2</th>\n",
       "      <td>69</td>\n",
       "      <td>75.357018</td>\n",
       "    </tr>\n",
       "    <tr>\n",
       "      <th>3</th>\n",
       "      <td>30</td>\n",
       "      <td>26.794801</td>\n",
       "    </tr>\n",
       "    <tr>\n",
       "      <th>4</th>\n",
       "      <td>62</td>\n",
       "      <td>60.491033</td>\n",
       "    </tr>\n",
       "  </tbody>\n",
       "</table>\n",
       "</div>"
      ],
      "text/plain": [
       "   Actual  Predicted\n",
       "0      20  16.884145\n",
       "1      27  33.732261\n",
       "2      69  75.357018\n",
       "3      30  26.794801\n",
       "4      62  60.491033"
      ]
     },
     "execution_count": 13,
     "metadata": {},
     "output_type": "execute_result"
    }
   ],
   "source": [
    "# Create a DataFrame to compare the actual and predicted values\n",
    "df = pd.DataFrame({'Actual': y_test, 'Predicted': y_pred})\n",
    "df"
   ]
  },
  {
   "cell_type": "markdown",
   "id": "11028551",
   "metadata": {},
   "source": [
    " A new DataFrame called df using the pd.DataFrame() method from the Pandas library. The DataFrame has two columns, 'Actual' and 'Predicted', containing the actual and predicted values of the dependent variable, respectively."
   ]
  },
  {
   "cell_type": "code",
   "execution_count": 14,
   "id": "46331779",
   "metadata": {},
   "outputs": [
    {
     "name": "stdout",
     "output_type": "stream",
     "text": [
      "No of Hours = [[9.25]]\n",
      "Predicted Score = 93.69173248737538\n"
     ]
    }
   ],
   "source": [
    "# Test the model with a custom input\n",
    "hours = np.array(9.25).reshape(1, -1)\n",
    "own_pred = regressor.predict(hours)\n",
    "print(\"No of Hours = {}\".format(hours))\n",
    "print(\"Predicted Score = {}\".format(own_pred[0]))"
   ]
  },
  {
   "cell_type": "markdown",
   "id": "5015bf39",
   "metadata": {},
   "source": [
    "This code predicts the score for a new value of hours, 9.25, using the trained model and assigns the prediction to the variable own_pred. Then it prints out the value of hours and the corresponding predicted score using the print() function and string formatting."
   ]
  },
  {
   "cell_type": "code",
   "execution_count": 15,
   "id": "b05c0acc",
   "metadata": {},
   "outputs": [
    {
     "name": "stdout",
     "output_type": "stream",
     "text": [
      "Mean Absolute Error: 4.183859899002975\n"
     ]
    }
   ],
   "source": [
    "# Evaluate the model using Mean Absolute Error metric\n",
    "from sklearn import metrics\n",
    "print('Mean Absolute Error:', metrics.mean_absolute_error(y_test, y_pred))"
   ]
  },
  {
   "cell_type": "markdown",
   "id": "a8d90f50",
   "metadata": {},
   "source": [
    "This code evaluates the performance of the model using the mean absolute error metric from the scikit-learn library. The mean absolute error is calculated using metrics.mean_absolute_error(y_test, y_pred) and printed using the print() function."
   ]
  }
 ],
 "metadata": {
  "kernelspec": {
   "display_name": "Python 3 (ipykernel)",
   "language": "python",
   "name": "python3"
  },
  "language_info": {
   "codemirror_mode": {
    "name": "ipython",
    "version": 3
   },
   "file_extension": ".py",
   "mimetype": "text/x-python",
   "name": "python",
   "nbconvert_exporter": "python",
   "pygments_lexer": "ipython3",
   "version": "3.9.13"
  }
 },
 "nbformat": 4,
 "nbformat_minor": 5
}
